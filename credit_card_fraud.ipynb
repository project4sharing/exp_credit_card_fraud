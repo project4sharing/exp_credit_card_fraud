{
  "nbformat": 4,
  "nbformat_minor": 0,
  "metadata": {
    "colab": {
      "provenance": [],
      "toc_visible": true,
      "history_visible": true,
      "authorship_tag": "ABX9TyMaKKTydcBNOzQc8fI38FbN",
      "include_colab_link": true
    },
    "kernelspec": {
      "name": "python3",
      "display_name": "Python 3"
    },
    "language_info": {
      "name": "python"
    }
  },
  "cells": [
    {
      "cell_type": "markdown",
      "metadata": {
        "id": "view-in-github",
        "colab_type": "text"
      },
      "source": [
        "<a href=\"https://colab.research.google.com/github/project4sharing/exp_credit_card_fraud/blob/initial/credit_card_fraud.ipynb\" target=\"_parent\"><img src=\"https://colab.research.google.com/assets/colab-badge.svg\" alt=\"Open In Colab\"/></a>"
      ]
    },
    {
      "cell_type": "markdown",
      "source": [
        "This project is to create a Credit Card Fraud experiment leveraging data from Kaggle .  In this journey, I try to exercise common Mahcine Learning (ML) best practice:\n",
        "\n",
        "\n",
        "1.   Data wangling & cleaning\n",
        "2.   Exploratory data analysis (EDA)\n",
        "\n"
      ],
      "metadata": {
        "id": "1uEOmmXEsQa_"
      }
    },
    {
      "cell_type": "markdown",
      "source": [
        "# High Level Summary\n"
      ],
      "metadata": {
        "id": "8pfbdoLGdZPj"
      }
    },
    {
      "cell_type": "code",
      "execution_count": null,
      "metadata": {
        "id": "QxQ-Hjeti1AT"
      },
      "outputs": [],
      "source": [
        "import numpy as np\n",
        "import pandas as pd\n",
        "\n",
        "from matplotlib import pyplot as plt\n",
        "import seaborn as sns\n",
        "import plotly.express as px"
      ]
    }
  ]
}